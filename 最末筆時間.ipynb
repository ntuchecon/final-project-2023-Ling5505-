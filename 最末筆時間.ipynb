{
 "cells": [
  {
   "cell_type": "code",
   "execution_count": 3,
   "metadata": {},
   "outputs": [
    {
     "name": "stdout",
     "output_type": "stream",
     "text": [
      "海水浴場 849    5 年前\n",
      "Name: 時間, dtype: object\n",
      "情人橋 849    1 年前\n",
      "Name: 時間, dtype: object\n",
      "觀景平台 849    4 年前\n",
      "Name: 時間, dtype: object\n",
      "櫻花道 735    7 年前\n",
      "Name: 時間, dtype: object\n",
      "滬尾礮臺 849    3 年前\n",
      "Name: 時間, dtype: object\n",
      "美麗新影城 849    1 年前\n",
      "Name: 時間, dtype: object\n",
      "馬術園區 849    3 年前\n",
      "Name: 時間, dtype: object\n",
      "家樂福 849    1 年前\n",
      "Name: 時間, dtype: object\n",
      "淡江大學 849    3 年前\n",
      "Name: 時間, dtype: object\n",
      "淡水漁人碼頭長堤 266    7 年前\n",
      "Name: 時間, dtype: object\n",
      "滬尾砲台公園 849    6 年前\n",
      "Name: 時間, dtype: object\n"
     ]
    }
   ],
   "source": [
    "import pandas as pd\n",
    "\n",
    "name_list_1 = [\"0\",\"沙崙海水浴場\", \"情人橋\", \"淡水漁人碼頭觀景平台\", \"櫻花道\", \"滬尾礮臺\", \"淡水美麗新影城\", \"綠野馬術文化園區\", \"家樂福淡新店\", \"淡江大學\",\"淡水漁人碼頭長堤\",\"滬尾砲台公園\"]\n",
    "LRT_list = [\"0\",\"海水浴場\", \"情人橋\", \"觀景平台\",\"櫻花道\",\"滬尾礮臺\",\"美麗新影城\",\"馬術園區\",\"家樂福\",\"淡江大學\",\"淡水漁人碼頭長堤\",\"滬尾砲台公園\"]\n",
    "\n",
    "for i, site1 in enumerate(name_list_1):\n",
    "    if i == 0: \n",
    "        continue\n",
    "    \n",
    "    data = pd.read_csv(f\"/Users/chriskeng/Documents/112課程/資科導/期末專案/text_comment/輕軌/{site1}.csv\")\n",
    "    globals()[f\"{LRT_list[i]}_df\"] = pd.DataFrame(data)\n",
    "    print(LRT_list[i],globals()[f\"{LRT_list[i]}_df\"].tail(1)[\"時間\"])"
   ]
  },
  {
   "cell_type": "code",
   "execution_count": 4,
   "metadata": {},
   "outputs": [
    {
     "name": "stdout",
     "output_type": "stream",
     "text": [
      "金色水岸 849    2 年前\n",
      "Name: 時間, dtype: object\n",
      "老街廣場 849    1 個月前\n",
      "Name: 時間, dtype: object\n",
      "淡水碼頭 849    2 年前\n",
      "Name: 時間, dtype: object\n",
      "海關碼頭 849    1 年前\n",
      "Name: 時間, dtype: object\n",
      "紅毛城 849    5 個月前\n",
      "Name: 時間, dtype: object\n",
      "小白宮 849    2 年前\n",
      "Name: 時間, dtype: object\n",
      "淡水捷運公園 293    6 年前\n",
      "Name: 時間, dtype: object\n",
      "淡水福佑宮 801    11 年前\n",
      "Name: 時間, dtype: object\n",
      "馬偕上岸處 487    8 年前\n",
      "Name: 時間, dtype: object\n"
     ]
    }
   ],
   "source": [
    "import pandas as pd\n",
    "name_list_2 = [\"0\",\"淡水金色水岸\", \"淡水老街廣場\", \"淡水碼頭\", \"淡水海關碼頭\", \"淡水紅毛城\", \"小白宮\",\"淡水捷運公園\",\"淡水福佑宮\",\"馬偕上岸處\"]\n",
    "MRT_list = [\"0\",\"金色水岸\", \"老街廣場\", \"淡水碼頭\", \"海關碼頭\", \"紅毛城\", \"小白宮\",\"淡水捷運公園\",\"淡水福佑宮\",\"馬偕上岸處\"]\n",
    "for i, site2 in enumerate(name_list_2):\n",
    "    if i == 0:  \n",
    "        continue\n",
    "    \n",
    "    data = pd.read_csv(f\"/Users/chriskeng/Documents/112課程/資科導/期末專案/text_comment/捷運/{site2}.csv\")\n",
    "    globals()[f\"{MRT_list[i]}_df\"] = pd.DataFrame(data)\n",
    "    print(MRT_list[i],globals()[f\"{MRT_list[i]}_df\"].tail(1)[\"時間\"])"
   ]
  }
 ],
 "metadata": {
  "kernelspec": {
   "display_name": "base",
   "language": "python",
   "name": "python3"
  },
  "language_info": {
   "codemirror_mode": {
    "name": "ipython",
    "version": 3
   },
   "file_extension": ".py",
   "mimetype": "text/x-python",
   "name": "python",
   "nbconvert_exporter": "python",
   "pygments_lexer": "ipython3",
   "version": "3.11.4"
  }
 },
 "nbformat": 4,
 "nbformat_minor": 2
}
